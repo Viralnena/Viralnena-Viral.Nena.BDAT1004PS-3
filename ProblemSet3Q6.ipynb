{
 "cells": [
  {
   "cell_type": "code",
   "execution_count": 2,
   "id": "775b36b0",
   "metadata": {},
   "outputs": [
    {
     "data": {
      "text/html": [
       "<div>\n",
       "<style scoped>\n",
       "    .dataframe tbody tr th:only-of-type {\n",
       "        vertical-align: middle;\n",
       "    }\n",
       "\n",
       "    .dataframe tbody tr th {\n",
       "        vertical-align: top;\n",
       "    }\n",
       "\n",
       "    .dataframe thead th {\n",
       "        text-align: right;\n",
       "    }\n",
       "</style>\n",
       "<table border=\"1\" class=\"dataframe\">\n",
       "  <thead>\n",
       "    <tr style=\"text-align: right;\">\n",
       "      <th></th>\n",
       "      <th>Year</th>\n",
       "      <th>Marriages</th>\n",
       "      <th>Divorces</th>\n",
       "      <th>Population</th>\n",
       "      <th>Marriages_per_1000</th>\n",
       "      <th>Divorces_per_1000</th>\n",
       "    </tr>\n",
       "  </thead>\n",
       "  <tbody>\n",
       "    <tr>\n",
       "      <th>0</th>\n",
       "      <td>1867</td>\n",
       "      <td>357000.0</td>\n",
       "      <td>10000.0</td>\n",
       "      <td>36970000</td>\n",
       "      <td>9.7</td>\n",
       "      <td>0.3</td>\n",
       "    </tr>\n",
       "    <tr>\n",
       "      <th>1</th>\n",
       "      <td>1868</td>\n",
       "      <td>345000.0</td>\n",
       "      <td>10000.0</td>\n",
       "      <td>37885000</td>\n",
       "      <td>9.1</td>\n",
       "      <td>0.3</td>\n",
       "    </tr>\n",
       "    <tr>\n",
       "      <th>2</th>\n",
       "      <td>1869</td>\n",
       "      <td>348000.0</td>\n",
       "      <td>11000.0</td>\n",
       "      <td>38870000</td>\n",
       "      <td>9.0</td>\n",
       "      <td>0.3</td>\n",
       "    </tr>\n",
       "    <tr>\n",
       "      <th>3</th>\n",
       "      <td>1870</td>\n",
       "      <td>352000.0</td>\n",
       "      <td>11000.0</td>\n",
       "      <td>39905000</td>\n",
       "      <td>8.8</td>\n",
       "      <td>0.3</td>\n",
       "    </tr>\n",
       "    <tr>\n",
       "      <th>4</th>\n",
       "      <td>1871</td>\n",
       "      <td>359000.0</td>\n",
       "      <td>12000.0</td>\n",
       "      <td>41010000</td>\n",
       "      <td>8.8</td>\n",
       "      <td>0.3</td>\n",
       "    </tr>\n",
       "  </tbody>\n",
       "</table>\n",
       "</div>"
      ],
      "text/plain": [
       "   Year  Marriages  Divorces  Population  Marriages_per_1000  \\\n",
       "0  1867   357000.0   10000.0    36970000                 9.7   \n",
       "1  1868   345000.0   10000.0    37885000                 9.1   \n",
       "2  1869   348000.0   11000.0    38870000                 9.0   \n",
       "3  1870   352000.0   11000.0    39905000                 8.8   \n",
       "4  1871   359000.0   12000.0    41010000                 8.8   \n",
       "\n",
       "   Divorces_per_1000  \n",
       "0                0.3  \n",
       "1                0.3  \n",
       "2                0.3  \n",
       "3                0.3  \n",
       "4                0.3  "
      ]
     },
     "execution_count": 2,
     "metadata": {},
     "output_type": "execute_result"
    }
   ],
   "source": [
    "import pandas as pd\n",
    "df = pd.read_csv(r\"us-marriages-divorces-1867-2014.csv\")\n",
    "df.head()"
   ]
  },
  {
   "cell_type": "code",
   "execution_count": 3,
   "id": "dda5274c",
   "metadata": {},
   "outputs": [
    {
     "data": {
      "text/plain": [
       "<Figure size 720x720 with 0 Axes>"
      ]
     },
     "metadata": {},
     "output_type": "display_data"
    },
    {
     "data": {
      "image/png": "[encoded data removed]",
      "text/plain": [
       "<Figure size 432x288 with 1 Axes>"
      ]
     },
     "metadata": {
      "needs_background": "light"
     },
     "output_type": "display_data"
    }
   ],
   "source": [
    "import matplotlib.pyplot as plot\n",
    "\n",
    "fig= plot.figure(figsize=(10,10))\n",
    "\n",
    "df.plot('Year', y=['Marriages', 'Divorces'])\n",
    "plot.show()"
   ]
  },
  {
   "cell_type": "code",
   "execution_count": null,
   "id": "25ebb4ad",
   "metadata": {},
   "outputs": [],
   "source": []
  },
  {
   "cell_type": "code",
   "execution_count": null,
   "id": "93307c22",
   "metadata": {},
   "outputs": [],
   "source": []
  }
 ],
 "metadata": {
  "kernelspec": {
   "display_name": "Python 3 (ipykernel)",
   "language": "python",
   "name": "python3"
  },
  "language_info": {
   "codemirror_mode": {
    "name": "ipython",
    "version": 3
   },
   "file_extension": ".py",
   "mimetype": "text/x-python",
   "name": "python",
   "nbconvert_exporter": "python",
   "pygments_lexer": "ipython3",
   "version": "3.9.12"
  }
 },
 "nbformat": 4,
 "nbformat_minor": 5
}
